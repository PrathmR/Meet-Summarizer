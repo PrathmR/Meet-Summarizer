import os
from google.colab import files
from google.colab import userdata # To access secrets
from IPython.display import display, Markdown, FileLink
from moviepy.editor import VideoFileClip
import assemblyai as aai
from reportlab.platypus import SimpleDocTemplate, Paragraph, Spacer
from reportlab.lib.styles import getSampleStyleSheet
from reportlab.lib.units import inch
from reportlab.lib.enums import TA_JUSTIFY
import re

# Get the API key you stored in Colab's Secrets Manager
try:
    aai.settings.api_key = userdata.get('ASSEMBLYAI_API_KEY')
except Exception as e:
    print("API Key not found in Colab Secrets. Please follow Step 1 to add it.")
    # Stop execution if the key is missing
    raise SystemExit()

# Define the PDF generation function
def generate_summary_pdf(summary_text, filename="meeting_summary.pdf"):
    """Generates a PDF document containing the meeting summary.

    Args:
        summary_text: The summary text string.
        filename: The name of the output PDF file.
    """
    doc = SimpleDocTemplate(filename,
                            rightMargin=72, leftMargin=72,
                            topMargin=72, bottomMargin=18)
    story = []
    styles = getSampleStyleSheet()

    # Add heading
    heading_style = styles['h1']
    story.append(Paragraph("Meeting Summary", heading_style))
    story.append(Spacer(1, 0.2 * inch))

    # Process and add summary text with bolding
    normal_style = styles['Normal']
    normal_style.alignment = TA_JUSTIFY

    # Identify important terms for bolding (example: based on keywords from the context)
    # This is a simple example; a more sophisticated approach might involve NLP
    important_terms = ["AI agents", "legal teams", "trustworthy", "hybrid RAG", "ediscovery", "semantic search", "structured search", "precision", "traceable output", "LLM", "law", "medicine"]

    # Split the summary into paragraphs (assuming bullet points are separated by newlines)
    paragraphs = summary_text.split('\n')

    for para in paragraphs:
        if para.strip(): # Avoid adding empty paragraphs
            # Use regex to find and bold important terms within the paragraph
            styled_text = para
            for term in important_terms:
                # Use word boundaries to avoid partial matches
                styled_text = re.sub(r'\b(' + re.escape(term) + r')\b', r'<b>\1</b>', styled_text, flags=re.IGNORECASE)

            story.append(Paragraph(styled_text, normal_style))
            story.append(Spacer(1, 0.1 * inch)) # Add space between paragraphs

    # Build the PDF
    doc.build(story)
    print(f"\nPDF summary generated: {filename}")


# ==============================================================================
# 3. FILE UPLOAD
# ==============================================================================
print("Please upload your meeting audio or video file (e.g., .mp3, .wav, .m4a, .mp4, .avi):")
uploaded = files.upload()

# Get the filename of the uploaded file
file_path = "" # Changed variable name from video_path to file_path
if uploaded:
    file_path = list(uploaded.keys())[0]
    print(f"\nSuccessfully uploaded '{file_path}'")
else:
    print("No file was uploaded.")
    raise SystemExit()

# ==============================================================================
# 4. PROCESSING LOGIC
# ==============================================================================
audio_path = None
try:
    # --- Determine file to process ---
    file_extension = os.path.splitext(file_path)[1].lower()
    if file_extension in ['.mp4', '.avi', '.mov']:
        print("\nStep 1/3: Extracting audio from video...")
        video_clip = VideoFileClip(file_path)
        audio_path = "temp_audio.mp3"
        video_clip.audio.write_audiofile(audio_path, verbose=False, logger=None)
        video_clip.close()
        print("✅ Audio extracted.")
        file_to_process = audio_path
    elif file_extension in ['.mp3', '.wav', '.ogg', '.m4a']:
        print("\nStep 1/3: Using uploaded audio file...")
        file_to_process = file_path
        print("✅ Audio file ready.")
    else:
        raise ValueError("Unsupported file type uploaded.")


    # --- Transcribe and Summarize ---
    print("\nStep 2/3: Transcribing and summarizing... (This may take a few minutes)")
    transcriber = aai.Transcriber()
    config = aai.TranscriptionConfig(
        summarization=True,
        summary_model=aai.SummarizationModel.informative,
        summary_type=aai.SummarizationType.bullets
    )
    transcript = transcriber.transcribe(file_to_process, config=config)

    if transcript.status == aai.TranscriptStatus.error:
        raise Exception(f"Transcription failed: {transcript.error}")

    print("✅ Transcription and summarization complete.")

    # --- Display Results ---
    print("\nStep 3/3: Displaying results...")
    display(Markdown("---"))
    display(Markdown("## 📋 Summary of the Meeting"))
    display(Markdown(transcript.summary))

    display(Markdown("---"))
    display(Markdown("## 📄 Full Transcript"))
    display(Markdown(f"<div style='height: 300px; overflow-y: scroll; border: 1px solid #ccc; padding: 10px;'>{transcript.text}</div>"))

    # --- Generate PDF Summary ---
    pdf_filename = "meeting_summary.pdf"
    generate_summary_pdf(transcript.summary, pdf_filename)

    # --- Provide Download Link ---
    display(FileLink(pdf_filename))


except Exception as e:
    print(f"\nAn error occurred: {e}")

finally:
    # --- Cleanup ---
    # Clean up the temporary files created during the process
    print("\nCleaning up temporary files...")
    if os.path.exists(file_path):
        os.remove(file_path)
    if audio_path and os.path.exists(audio_path):
        os.remove(audio_path)
    # Keep the generated PDF for download
    # if os.path.exists(pdf_filename):
    #     os.remove(pdf_filename) # Uncomment this line if you don't want to keep the PDF after execution
    print("Done.")